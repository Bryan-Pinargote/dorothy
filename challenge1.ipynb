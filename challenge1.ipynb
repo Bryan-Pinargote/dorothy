{
 "cells": [
  {
   "cell_type": "markdown",
   "metadata": {},
   "source": [
    "## Task 1: Load Data & Import Libraries"
   ]
  },
  {
   "cell_type": "markdown",
   "metadata": {},
   "source": [
    "**Goal:** Set up your environment and download the dataset for analysis.\n",
    "\n",
    "### Instructions:\n",
    "\n",
    "1. Download the dataset using `opendatasets`.  \n",
    "   - Dataset URL: https://www.kaggle.com/datasets/heesoo37/120-years-of-olympic-history-athletes-and-results  \n",
    "   - You may need to provide your Kaggle API credentials.\n",
    "\n",
    "\n",
    "2. Set file paths for:\n",
    "   - `athlete_data_filename` → `athlete_events.csv`\n",
    "   - `regions_data_filename` → `noc_regions.csv`\n",
    "\n",
    "\n",
    "3. Install and import the following libraries:\n",
    "   - `pandas`, `numpy`\n",
    "   - `matplotlib.pyplot`, `seaborn`\n",
    "   - `plotly.express`\n",
    "   - `ListedColormap` from `matplotlib.colors`\n",
    "\n",
    "\n",
    "**Expected Output:**\n",
    "\n",
    "- Dataset downloaded\n",
    "\n",
    "- All libraries successfully imported\n",
    "\n",
    "- File paths assigned"
   ]
  },
  {
   "cell_type": "code",
   "execution_count": 40,
   "metadata": {},
   "outputs": [
    {
     "name": "stdout",
     "output_type": "stream",
     "text": [
      "Skipping, found downloaded files in \"./120-years-of-olympic-history-athletes-and-results\" (use force=True to force download)\n"
     ]
    }
   ],
   "source": [
    "# 1. Download the dataset using `opendatasets`:\n",
    "import opendatasets as od\n",
    "od.download('https://www.kaggle.com/datasets/heesoo37/120-years-of-olympic-history-athletes-and-results')"
   ]
  },
  {
   "cell_type": "code",
   "execution_count": 41,
   "metadata": {},
   "outputs": [],
   "source": [
    "# 2. Set file paths:\n",
    "athlete_data_filename = './120-years-of-olympic-history-athletes-and-results/athlete_events.csv'\n",
    "regions_data_filename = './120-years-of-olympic-history-athletes-and-results/noc_regions.csv'"
   ]
  },
  {
   "cell_type": "code",
   "execution_count": 42,
   "metadata": {},
   "outputs": [],
   "source": [
    "# 3. Install and import the libraries:\n",
    "import pandas as pd\n",
    "import numpy as np\n",
    "import matplotlib.pyplot as plt\n",
    "import seaborn as sns\n",
    "import plotly.express as px\n",
    "from matplotlib.colors import ListedColormap"
   ]
  },
  {
   "cell_type": "markdown",
   "metadata": {},
   "source": [
    "##  Task 2: Set Plot Style and Color Palette"
   ]
  },
  {
   "cell_type": "markdown",
   "metadata": {},
   "source": [
    "Goal: Customize the appearance of your plots for consistent and clean visuals.\n",
    "\n",
    "Instructions:\n",
    "1. Set the global style for all plots using plt.style.use().\n",
    "    - Use 'ggplot' for a simple, clean base style.\n",
    "2. Define a custom color palette:\n",
    "    - Use a list of hex color codes.\n",
    "    - Example: [\"#0a2e36\", \"#27FB6B\", \"#14cc60\", \"#036d19\", \"#09a129\"]\n",
    "\n",
    "3. Apply the color palette using Seaborn:\n",
    "    - Use sns.set_palette()."
   ]
  },
  {
   "cell_type": "code",
   "execution_count": 65,
   "metadata": {},
   "outputs": [],
   "source": [
    "# 1. Set the global style for all plots:\n",
    "plt.style.use('ggplot')"
   ]
  },
  {
   "cell_type": "code",
   "execution_count": 66,
   "metadata": {},
   "outputs": [],
   "source": [
    "# 2. Define a custom color palette:\n",
    "custom_colors = [\"#0a2e36\", \"#27FB6B\", \"#14cc60\", \"#036d19\", \"#09a129\"]"
   ]
  },
  {
   "cell_type": "code",
   "execution_count": 67,
   "metadata": {},
   "outputs": [],
   "source": [
    "# 3. Apply the color palette:\n",
    "sns.set_palette(custom_colors)"
   ]
  },
  {
   "cell_type": "markdown",
   "metadata": {},
   "source": [
    "## Task 3: Data Preparation"
   ]
  },
  {
   "cell_type": "markdown",
   "metadata": {},
   "source": [
    "Goal: Prepare data for analysis.\n",
    "\n",
    "Steps:\n",
    "1. Load the file using pandas.\n",
    "2. Look for some of the information about the data and the columns.\n",
    "3. Fix any of the missing or incorrect values.\n",
    "4. Which, and how much data types are in the dataset.\n",
    "5. List the minimum age on the competence.\n",
    "\n",
    "The focus of this EDA project will solely be on the \"Summer Olympics\", filter of all the \"Winter Olympics Games\" from the dataset."
   ]
  },
  {
   "cell_type": "code",
   "execution_count": 68,
   "metadata": {},
   "outputs": [],
   "source": [
    "# 1. Load the file using pandas.\n",
    "athletes_df = pd.read_csv(athlete_data_filename)\n",
    "regions_df = pd.read_csv(regions_data_filename)"
   ]
  },
  {
   "cell_type": "code",
   "execution_count": 69,
   "metadata": {},
   "outputs": [
    {
     "data": {
      "text/html": [
       "<div>\n",
       "<style scoped>\n",
       "    .dataframe tbody tr th:only-of-type {\n",
       "        vertical-align: middle;\n",
       "    }\n",
       "\n",
       "    .dataframe tbody tr th {\n",
       "        vertical-align: top;\n",
       "    }\n",
       "\n",
       "    .dataframe thead th {\n",
       "        text-align: right;\n",
       "    }\n",
       "</style>\n",
       "<table border=\"1\" class=\"dataframe\">\n",
       "  <thead>\n",
       "    <tr style=\"text-align: right;\">\n",
       "      <th></th>\n",
       "      <th>NOC</th>\n",
       "      <th>region</th>\n",
       "      <th>notes</th>\n",
       "    </tr>\n",
       "  </thead>\n",
       "  <tbody>\n",
       "    <tr>\n",
       "      <th>0</th>\n",
       "      <td>AFG</td>\n",
       "      <td>Afghanistan</td>\n",
       "      <td>NaN</td>\n",
       "    </tr>\n",
       "    <tr>\n",
       "      <th>1</th>\n",
       "      <td>AHO</td>\n",
       "      <td>Curacao</td>\n",
       "      <td>Netherlands Antilles</td>\n",
       "    </tr>\n",
       "    <tr>\n",
       "      <th>2</th>\n",
       "      <td>ALB</td>\n",
       "      <td>Albania</td>\n",
       "      <td>NaN</td>\n",
       "    </tr>\n",
       "    <tr>\n",
       "      <th>3</th>\n",
       "      <td>ALG</td>\n",
       "      <td>Algeria</td>\n",
       "      <td>NaN</td>\n",
       "    </tr>\n",
       "    <tr>\n",
       "      <th>4</th>\n",
       "      <td>AND</td>\n",
       "      <td>Andorra</td>\n",
       "      <td>NaN</td>\n",
       "    </tr>\n",
       "    <tr>\n",
       "      <th>5</th>\n",
       "      <td>ANG</td>\n",
       "      <td>Angola</td>\n",
       "      <td>NaN</td>\n",
       "    </tr>\n",
       "    <tr>\n",
       "      <th>6</th>\n",
       "      <td>ANT</td>\n",
       "      <td>Antigua</td>\n",
       "      <td>Antigua and Barbuda</td>\n",
       "    </tr>\n",
       "    <tr>\n",
       "      <th>7</th>\n",
       "      <td>ANZ</td>\n",
       "      <td>Australia</td>\n",
       "      <td>Australasia</td>\n",
       "    </tr>\n",
       "    <tr>\n",
       "      <th>8</th>\n",
       "      <td>ARG</td>\n",
       "      <td>Argentina</td>\n",
       "      <td>NaN</td>\n",
       "    </tr>\n",
       "    <tr>\n",
       "      <th>9</th>\n",
       "      <td>ARM</td>\n",
       "      <td>Armenia</td>\n",
       "      <td>NaN</td>\n",
       "    </tr>\n",
       "  </tbody>\n",
       "</table>\n",
       "</div>"
      ],
      "text/plain": [
       "   NOC       region                 notes\n",
       "0  AFG  Afghanistan                   NaN\n",
       "1  AHO      Curacao  Netherlands Antilles\n",
       "2  ALB      Albania                   NaN\n",
       "3  ALG      Algeria                   NaN\n",
       "4  AND      Andorra                   NaN\n",
       "5  ANG       Angola                   NaN\n",
       "6  ANT      Antigua   Antigua and Barbuda\n",
       "7  ANZ    Australia           Australasia\n",
       "8  ARG    Argentina                   NaN\n",
       "9  ARM      Armenia                   NaN"
      ]
     },
     "execution_count": 69,
     "metadata": {},
     "output_type": "execute_result"
    }
   ],
   "source": [
    "# 2. Look for some of the information about the data and the columns.\n",
    "athletes_df.head(10)\n",
    "regions_df.head(10)"
   ]
  },
  {
   "cell_type": "code",
   "execution_count": 70,
   "metadata": {},
   "outputs": [],
   "source": [
    "# 3. Fix any of the missing or incorrect values.\n",
    "\n",
    "# Athletes Dataset\n",
    "    # Look for NULL values\n",
    "athletes_df.isnull().sum()\n",
    "    # Replace the NULL values in the \"Medal\" column for \"None\"\n",
    "    # 'Age', 'Height' and 'Weight columns are omitted as they are in task 5.\n",
    "athletes_df.fillna({'Medal':'None'}, inplace=True)\n",
    "\n",
    "# Region Dataset\n",
    "    # Look for NULL values\n",
    "regions_df.isnull().sum()\n",
    "    # Replace the NULL values in the \"notes\" column for \"None\"\n",
    "regions_df.fillna({'notes':'None'}, inplace=True)\n",
    "    # 'region' column has 3 NULL values which values is in the 'notes' column.\n",
    "    # Replace the NULL values in the \"region\" column for the corresponding values in the \"notes\"\n",
    "mask = regions_df['region'].isnull()\n",
    "# mask.head()\n",
    "regions_df.loc[mask, 'region'] = regions_df.loc[mask, 'notes']\n",
    "# regions_df.isnull().sum()\n",
    "# regions_df[regions_df[\"notes\"]==\"Unknown\"]"
   ]
  },
  {
   "cell_type": "code",
   "execution_count": 71,
   "metadata": {},
   "outputs": [
    {
     "name": "stdout",
     "output_type": "stream",
     "text": [
      "<class 'pandas.core.frame.DataFrame'>\n",
      "RangeIndex: 271116 entries, 0 to 271115\n",
      "Data columns (total 15 columns):\n",
      " #   Column  Non-Null Count   Dtype  \n",
      "---  ------  --------------   -----  \n",
      " 0   ID      271116 non-null  int64  \n",
      " 1   Name    271116 non-null  object \n",
      " 2   Sex     271116 non-null  object \n",
      " 3   Age     261642 non-null  float64\n",
      " 4   Height  210945 non-null  float64\n",
      " 5   Weight  208241 non-null  float64\n",
      " 6   Team    271116 non-null  object \n",
      " 7   NOC     271116 non-null  object \n",
      " 8   Games   271116 non-null  object \n",
      " 9   Year    271116 non-null  int64  \n",
      " 10  Season  271116 non-null  object \n",
      " 11  City    271116 non-null  object \n",
      " 12  Sport   271116 non-null  object \n",
      " 13  Event   271116 non-null  object \n",
      " 14  Medal   271116 non-null  object \n",
      "dtypes: float64(3), int64(2), object(10)\n",
      "memory usage: 31.0+ MB\n"
     ]
    }
   ],
   "source": [
    "# 4. Which, and how much data types are in the dataset.\n",
    "athletes_df.info()"
   ]
  },
  {
   "cell_type": "code",
   "execution_count": 72,
   "metadata": {},
   "outputs": [
    {
     "name": "stdout",
     "output_type": "stream",
     "text": [
      "10.0\n"
     ]
    }
   ],
   "source": [
    "# 5. List the minimum age on the competence.\n",
    "minimum_age = athletes_df['Age'].min()\n",
    "print(minimum_age)"
   ]
  },
  {
   "cell_type": "code",
   "execution_count": 78,
   "metadata": {},
   "outputs": [
    {
     "name": "stdout",
     "output_type": "stream",
     "text": [
      "<class 'pandas.core.frame.DataFrame'>\n",
      "Index: 222552 entries, 0 to 271110\n",
      "Data columns (total 15 columns):\n",
      " #   Column  Non-Null Count   Dtype  \n",
      "---  ------  --------------   -----  \n",
      " 0   ID      222552 non-null  int64  \n",
      " 1   Name    222552 non-null  object \n",
      " 2   Sex     222552 non-null  object \n",
      " 3   Age     213363 non-null  float64\n",
      " 4   Height  170695 non-null  float64\n",
      " 5   Weight  168698 non-null  float64\n",
      " 6   Team    222552 non-null  object \n",
      " 7   NOC     222552 non-null  object \n",
      " 8   Games   222552 non-null  object \n",
      " 9   Year    222552 non-null  int64  \n",
      " 10  Season  222552 non-null  object \n",
      " 11  City    222552 non-null  object \n",
      " 12  Sport   222552 non-null  object \n",
      " 13  Event   222552 non-null  object \n",
      " 14  Medal   222552 non-null  object \n",
      "dtypes: float64(3), int64(2), object(10)\n",
      "memory usage: 27.2+ MB\n"
     ]
    }
   ],
   "source": [
    "# 6. Filter of all the \"Winter Olympics Games\" from the dataset\n",
    "summer_athletes_df = (athletes_df.loc[athletes_df['Season'] == \"Summer\"])\n",
    "summer_athletes_df.info()"
   ]
  },
  {
   "cell_type": "markdown",
   "metadata": {},
   "source": [
    "## Task 4: Merging The Two Datasets Into One\n",
    "\n",
    "**Goal:** Merge datasets.\n",
    "\n",
    "Before we can begin analyzing the data, we need to combine the two datasets:  \n",
    "- `athlete_events.csv` (athlete information)\n",
    "- `noc_regions.csv` (region/country information)\n",
    "\n",
    "Use the `pandas.merge()` function to do this.\n",
    "\n",
    "###  Steps:\n",
    "\n",
    "1. **Call `pd.merge()`**  \n",
    "   This function merges two DataFrames based on one or more common columns (known as keys).\n",
    "\n",
    "2. **Set merge type and key**  \n",
    "   We'll perform a **left join** on the `NOC` column:\n",
    "   - This keeps **all records** from `athlete_events` (left DataFrame).\n",
    "   - It adds matching `region` data from `noc_regions` (right DataFrame).\n",
    "   - Rows with no match in the right DataFrame will have `NaN` values in those columns.\n"
   ]
  },
  {
   "cell_type": "code",
   "execution_count": 84,
   "metadata": {},
   "outputs": [
    {
     "name": "stdout",
     "output_type": "stream",
     "text": [
      "<class 'pandas.core.frame.DataFrame'>\n",
      "RangeIndex: 222552 entries, 0 to 222551\n",
      "Data columns (total 17 columns):\n",
      " #   Column  Non-Null Count   Dtype  \n",
      "---  ------  --------------   -----  \n",
      " 0   ID      222552 non-null  int64  \n",
      " 1   Name    222552 non-null  object \n",
      " 2   Sex     222552 non-null  object \n",
      " 3   Age     213363 non-null  float64\n",
      " 4   Height  170695 non-null  float64\n",
      " 5   Weight  168698 non-null  float64\n",
      " 6   Team    222552 non-null  object \n",
      " 7   NOC     222552 non-null  object \n",
      " 8   Games   222552 non-null  object \n",
      " 9   Year    222552 non-null  int64  \n",
      " 10  Season  222552 non-null  object \n",
      " 11  City    222552 non-null  object \n",
      " 12  Sport   222552 non-null  object \n",
      " 13  Event   222552 non-null  object \n",
      " 14  Medal   222552 non-null  object \n",
      " 15  region  222203 non-null  object \n",
      " 16  notes   222203 non-null  object \n",
      "dtypes: float64(3), int64(2), object(12)\n",
      "memory usage: 28.9+ MB\n"
     ]
    }
   ],
   "source": [
    "# 1. Call `pd.merge()` and 2. Set merge type and key\n",
    "summer_athletes_regions_df = pd.merge(summer_athletes_df, regions_df, how='left', on='NOC')\n",
    "summer_athletes_regions_df.info()"
   ]
  },
  {
   "cell_type": "code",
   "execution_count": 96,
   "metadata": {},
   "outputs": [
    {
     "ename": "TypeError",
     "evalue": "'test_summer_athletes_regions_df' is an invalid keyword argument for print()",
     "output_type": "error",
     "traceback": [
      "\u001b[31m---------------------------------------------------------------------------\u001b[39m",
      "\u001b[31mTypeError\u001b[39m                                 Traceback (most recent call last)",
      "\u001b[36mCell\u001b[39m\u001b[36m \u001b[39m\u001b[32mIn[96]\u001b[39m\u001b[32m, line 2\u001b[39m\n\u001b[32m      1\u001b[39m \u001b[38;5;66;03m# summer_athletes_regions_df.tail()\u001b[39;00m\n\u001b[32m----> \u001b[39m\u001b[32m2\u001b[39m \u001b[38;5;28;43mprint\u001b[39;49m\u001b[43m(\u001b[49m\u001b[43mtest_summer_athletes_regions_df\u001b[49m\u001b[43m \u001b[49m\u001b[43m=\u001b[49m\u001b[43m \u001b[49m\u001b[43msummer_athletes_regions_df\u001b[49m\u001b[43m[\u001b[49m\u001b[33;43m'\u001b[39;49m\u001b[33;43mregion\u001b[39;49m\u001b[33;43m'\u001b[39;49m\u001b[43m]\u001b[49m\u001b[43m.\u001b[49m\u001b[43misnull\u001b[49m\u001b[43m(\u001b[49m\u001b[43m)\u001b[49m\u001b[43m)\u001b[49m\n\u001b[32m      3\u001b[39m test_summer_athletes_regions_df.head(\u001b[32m10\u001b[39m)\n",
      "\u001b[31mTypeError\u001b[39m: 'test_summer_athletes_regions_df' is an invalid keyword argument for print()"
     ]
    }
   ],
   "source": [
    "# summer_athletes_regions_df.tail()\n",
    "print(test_summer_athletes_regions_df = summer_athletes_regions_df['region'].isnull()\n",
    "test_summer_athletes_regions_df.head(10)"
   ]
  },
  {
   "cell_type": "markdown",
   "metadata": {},
   "source": [
    "## Task 5: Finding and Replacing The Null Values In Our Dataset\n",
    "\n",
    "**Goal:** Data cleaning and exploratory analysis.\n",
    "\n",
    "### Cleaning Tasks:\n",
    "\n",
    "- Visualize the distribution of missing values using pie charts or bar plots.\n",
    "\n",
    "- Calculate and list the percentage of null values for each column. Replace missing values with the mean of the respective column when appropriate.\n",
    "\n",
    "- Remove duplicate entries from the dataset to ensure accuracy.\n",
    "\n",
    "### Exploratory Questions:\n",
    "\n",
    "1. Which country has sent the most athletes to the Summer Olympics?\n",
    "\n",
    "2. How has the number of athletes, countries, and events changed over time?\n",
    "\n",
    "3. Which nations have won the most Olympic medals?\n",
    "\n",
    "4. How has participation by male and female athletes evolved over time?\n",
    "\n",
    "5. What is the correlation between the height and weight of Olympic participants?\n",
    "\n",
    "6. In which sports has India won Olympic medals?\n",
    "\n",
    "7. Which sports have contributed the most medals overall?"
   ]
  },
  {
   "cell_type": "code",
   "execution_count": 93,
   "metadata": {},
   "outputs": [
    {
     "data": {
      "text/plain": [
       "Age        4.128923\n",
       "Height    23.301071\n",
       "Weight    24.198390\n",
       "region     0.156817\n",
       "notes      0.156817\n",
       "dtype: float64"
      ]
     },
     "execution_count": 93,
     "metadata": {},
     "output_type": "execute_result"
    }
   ],
   "source": [
    "# Visualize the distribution of missing values using pie charts or bar plots.\n",
    "missing_values = summer_athletes_regions_df.isnull().sum()\n",
    "missing_values = missing_values[missing_values>0]\n",
    "percentage = (missing_values / len(summer_athletes_regions_df)) * 100\n",
    "percentage"
   ]
  },
  {
   "cell_type": "code",
   "execution_count": null,
   "metadata": {},
   "outputs": [],
   "source": []
  },
  {
   "cell_type": "code",
   "execution_count": null,
   "metadata": {},
   "outputs": [],
   "source": [
    "# Calculate and list the percentage of null values for each column. Replace missing values with the mean of the respective column when appropriate.\n",
    "missing_va"
   ]
  },
  {
   "cell_type": "code",
   "execution_count": 18,
   "metadata": {},
   "outputs": [],
   "source": [
    "summer_athletes_regions_df = summer_athletes_regions_df.drop_duplicates()"
   ]
  },
  {
   "cell_type": "code",
   "execution_count": 19,
   "metadata": {},
   "outputs": [
    {
     "name": "stdout",
     "output_type": "stream",
     "text": [
      "<class 'pandas.core.frame.DataFrame'>\n",
      "Index: 166693 entries, 0 to 166705\n",
      "Data columns (total 17 columns):\n",
      " #   Column  Non-Null Count   Dtype  \n",
      "---  ------  --------------   -----  \n",
      " 0   ID      166693 non-null  int64  \n",
      " 1   Name    166693 non-null  object \n",
      " 2   Sex     166693 non-null  object \n",
      " 3   Age     166693 non-null  float64\n",
      " 4   Height  166693 non-null  float64\n",
      " 5   Weight  166693 non-null  float64\n",
      " 6   Team    166693 non-null  object \n",
      " 7   NOC     166693 non-null  object \n",
      " 8   Games   166693 non-null  object \n",
      " 9   Year    166693 non-null  int64  \n",
      " 10  Season  166693 non-null  object \n",
      " 11  City    166693 non-null  object \n",
      " 12  Sport   166693 non-null  object \n",
      " 13  Event   166693 non-null  object \n",
      " 14  Medal   166693 non-null  object \n",
      " 15  region  166423 non-null  object \n",
      " 16  notes   3132 non-null    object \n",
      "dtypes: float64(3), int64(2), object(12)\n",
      "memory usage: 22.9+ MB\n"
     ]
    }
   ],
   "source": [
    "summer_athletes_regions_df.info()"
   ]
  },
  {
   "cell_type": "code",
   "execution_count": null,
   "metadata": {},
   "outputs": [],
   "source": [
    "    # Create a new dataframe without the NULL values for Age, Height and Weight.\n",
    "athletes_clean_df = athletes_df.dropna(subset=['Age', 'Height', 'Weight']).copy()\n",
    "    # Replace the NULL values in the 'Medal' column for 'None'\n",
    "athletes_clean_df.fillna({'Medal':'None'}, inplace=True)\n",
    "    # Check the clean dataframe\n",
    "athletes_clean_df.isnull().sum()"
   ]
  },
  {
   "cell_type": "code",
   "execution_count": null,
   "metadata": {},
   "outputs": [],
   "source": []
  }
 ],
 "metadata": {
  "kernelspec": {
   "display_name": "Python 3",
   "language": "python",
   "name": "python3"
  },
  "language_info": {
   "codemirror_mode": {
    "name": "ipython",
    "version": 3
   },
   "file_extension": ".py",
   "mimetype": "text/x-python",
   "name": "python",
   "nbconvert_exporter": "python",
   "pygments_lexer": "ipython3",
   "version": "3.12.1"
  }
 },
 "nbformat": 4,
 "nbformat_minor": 2
}
