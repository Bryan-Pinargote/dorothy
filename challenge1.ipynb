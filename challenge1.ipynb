{
 "cells": [
  {
   "cell_type": "markdown",
   "metadata": {},
   "source": [
    "## Task 1: Load Data & Import Libraries"
   ]
  },
  {
   "cell_type": "markdown",
   "metadata": {},
   "source": [
    "**Goal:** Set up your environment and download the dataset for analysis.\n",
    "\n",
    "### Instructions:\n",
    "\n",
    "1. Download the dataset using `opendatasets`.  \n",
    "   - Dataset URL: https://www.kaggle.com/datasets/heesoo37/120-years-of-olympic-history-athletes-and-results  \n",
    "   - You may need to provide your Kaggle API credentials.\n",
    "\n",
    "\n",
    "2. Set file paths for:\n",
    "   - `athlete_data_filename` → `athlete_events.csv`\n",
    "   - `regions_data_filename` → `noc_regions.csv`\n",
    "\n",
    "\n",
    "3. Install and import the following libraries:\n",
    "   - `pandas`, `numpy`\n",
    "   - `matplotlib.pyplot`, `seaborn`\n",
    "   - `plotly.express`\n",
    "   - `ListedColormap` from `matplotlib.colors`\n",
    "\n",
    "\n",
    "**Expected Output:**\n",
    "\n",
    "- Dataset downloaded\n",
    "\n",
    "- All libraries successfully imported\n",
    "\n",
    "- File paths assigned"
   ]
  },
  {
   "cell_type": "code",
   "execution_count": null,
   "metadata": {},
   "outputs": [],
   "source": []
  },
  {
   "cell_type": "code",
   "execution_count": 1,
   "metadata": {},
   "outputs": [],
   "source": [
    "# 1. Download the dataset using `opendatasets`:\n",
    "import opendatasets as od\n",
    "od.download('https://www.kaggle.com/datasets/heesoo37/120-years-of-olympic-history-athletes-and-results')"
   ]
  },
  {
   "cell_type": "code",
   "execution_count": 2,
   "metadata": {},
   "outputs": [],
   "source": [
    "# 2. Set file paths:\n",
    "athlete_data_filename = './120-years-of-olympic-history-athletes-and-results/athlete_events.csv'\n",
    "regions_data_filename = './120-years-of-olympic-history-athletes-and-results/noc_regions.csv'"
   ]
  },
  {
   "cell_type": "code",
   "execution_count": 3,
   "metadata": {},
   "outputs": [],
   "source": [
    "# 3. Install and import the libraries:\n",
    "import pandas as pd\n",
    "import numpy as np\n",
    "import matplotlib.pyplot as plt\n",
    "import seaborn as sns\n",
    "import plotly.express as px\n",
    "from matplotlib.colors import ListedColormap"
   ]
  },
  {
   "cell_type": "markdown",
   "metadata": {},
   "source": [
    "##  Task 2: Set Plot Style and Color Palette"
   ]
  },
  {
   "cell_type": "markdown",
   "metadata": {},
   "source": [
    "Goal: Customize the appearance of your plots for consistent and clean visuals.\n",
    "\n",
    "Instructions:\n",
    "1. Set the global style for all plots using plt.style.use().\n",
    "    - Use 'ggplot' for a simple, clean base style.\n",
    "2. Define a custom color palette:\n",
    "    - Use a list of hex color codes.\n",
    "    - Example: [\"#0a2e36\", \"#27FB6B\", \"#14cc60\", \"#036d19\", \"#09a129\"]\n",
    "\n",
    "3. Apply the color palette using Seaborn:\n",
    "    - Use sns.set_palette()."
   ]
  },
  {
   "cell_type": "code",
   "execution_count": 4,
   "metadata": {},
   "outputs": [],
   "source": [
    "# 1. Set the global style for all plots:\n",
    "plt.style.use('ggplot')"
   ]
  },
  {
   "cell_type": "code",
   "execution_count": 5,
   "metadata": {},
   "outputs": [],
   "source": [
    "# 2. Define a custom color palette:\n",
    "custom_colors = [\"#0d0887\", \"#5302a3\", \"#8b0aa5\", \"#b83289\", \"#db5c68\", \"#f48849\", \"#febd2a\", \"#f0f921\"]"
   ]
  },
  {
   "cell_type": "code",
   "execution_count": 6,
   "metadata": {},
   "outputs": [],
   "source": [
    "# 3. Apply the color palette:\n",
    "sns.set_palette(custom_colors)"
   ]
  },
  {
   "cell_type": "markdown",
   "metadata": {},
   "source": [
    "## Task 3: Data Preparation"
   ]
  },
  {
   "cell_type": "markdown",
   "metadata": {},
   "source": [
    "Goal: Prepare data for analysis.\n",
    "\n",
    "Steps:\n",
    "1. Load the file using pandas.\n",
    "2. Look for some of the information about the data and the columns.\n",
    "3. Fix any of the missing or incorrect values.\n",
    "4. Which, and how much data types are in the dataset.\n",
    "5. List the minimum age on the competence.\n",
    "\n",
    "The focus of this EDA project will solely be on the \"Summer Olympics\", filter of all the \"Winter Olympics Games\" from the dataset."
   ]
  },
  {
   "cell_type": "code",
   "execution_count": 7,
   "metadata": {},
   "outputs": [],
   "source": [
    "# 1. Load the file using pandas.\n",
    "athletes_df = pd.read_csv(athlete_data_filename)\n",
    "regions_df = pd.read_csv(regions_data_filename)"
   ]
  },
  {
   "cell_type": "code",
   "execution_count": 8,
   "metadata": {},
   "outputs": [],
   "source": [
    "# 2. Look for some of the information about the data and the columns.\n",
    "athletes_df.head(10)\n",
    "# regions_df.head(10)"
   ]
  },
  {
   "cell_type": "code",
   "execution_count": 9,
   "metadata": {},
   "outputs": [],
   "source": [
    "# 3. Fix any of the missing or incorrect values.\n",
    "\n",
    "# Athletes Dataset\n",
    "    # Look for NULL values\n",
    "athletes_df.isnull().sum()\n",
    "    # Replace the NULL values in the \"Medal\" column for \"None\"\n",
    "    # 'Age', 'Height' and 'Weight columns are omitted as they are in task 5.\n",
    "athletes_df.fillna({'Medal':'None'}, inplace=True)\n",
    "\n",
    "# Region Dataset\n",
    "    # Look for NULL values\n",
    "regions_df.isnull().sum()\n",
    "    # Replace the NULL values in the \"notes\" column for \"None\"\n",
    "regions_df.fillna({'notes':'None'}, inplace=True)\n",
    "    # 'region' column has 3 NULL values which values are in the 'notes' column.\n",
    "    # Replace the NULL values in the \"region\" column for the corresponding values in the \"notes\"\n",
    "mask = regions_df['region'].isnull()\n",
    "regions_df.loc[mask, 'region'] = regions_df.loc[mask, 'notes']\n",
    "\n",
    "#  Note: In the Athletes table there are a NOC value \"SGP\" which represents Singapur by the ISO 3166.\n",
    "#  Insert the NOC value \"SGP\" in the Region table\n",
    "new_row = {\n",
    "    'NOC':   'SGP',\n",
    "    'region':'Singapur',\n",
    "    'notes': 'None'\n",
    "}\n",
    "regions_df.loc[len(regions_df)] = new_row"
   ]
  },
  {
   "cell_type": "code",
   "execution_count": 10,
   "metadata": {},
   "outputs": [],
   "source": [
    "# 4. Which, and how much data types are in the dataset.\n",
    "athletes_df.info()"
   ]
  },
  {
   "cell_type": "code",
   "execution_count": 11,
   "metadata": {},
   "outputs": [],
   "source": [
    "# 5. List the minimum age on the competence.\n",
    "minimum_age = athletes_df['Age'].min()\n",
    "print(minimum_age)"
   ]
  },
  {
   "cell_type": "code",
   "execution_count": 12,
   "metadata": {},
   "outputs": [],
   "source": [
    "# 6. Filter of all the \"Winter Olympics Games\" from the dataset\n",
    "summer_athletes_df = (athletes_df.loc[athletes_df['Season'] == \"Summer\"])\n",
    "summer_athletes_df.info()"
   ]
  },
  {
   "cell_type": "markdown",
   "metadata": {},
   "source": [
    "## Task 4: Merging The Two Datasets Into One\n",
    "\n",
    "**Goal:** Merge datasets.\n",
    "\n",
    "Before we can begin analyzing the data, we need to combine the two datasets:  \n",
    "- `athlete_events.csv` (athlete information)\n",
    "- `noc_regions.csv` (region/country information)\n",
    "\n",
    "Use the `pandas.merge()` function to do this.\n",
    "\n",
    "###  Steps:\n",
    "\n",
    "1. **Call `pd.merge()`**  \n",
    "   This function merges two DataFrames based on one or more common columns (known as keys).\n",
    "\n",
    "2. **Set merge type and key**  \n",
    "   We'll perform a **left join** on the `NOC` column:\n",
    "   - This keeps **all records** from `athlete_events` (left DataFrame).\n",
    "   - It adds matching `region` data from `noc_regions` (right DataFrame).\n",
    "   - Rows with no match in the right DataFrame will have `NaN` values in those columns.\n"
   ]
  },
  {
   "cell_type": "code",
   "execution_count": 13,
   "metadata": {},
   "outputs": [],
   "source": [
    "# 1. Call `pd.merge()` and 2. Set merge type and key\n",
    "summer_athletes_regions_df = pd.merge(summer_athletes_df, regions_df, how='left', on='NOC')\n",
    "summer_athletes_regions_df.info()"
   ]
  },
  {
   "cell_type": "code",
   "execution_count": 14,
   "metadata": {},
   "outputs": [],
   "source": [
    "# filas_region_nan = summer_athletes_regions_df[summer_athletes_regions_df['Name'].isnull()]\n",
    "# filas_region_nan.tail(10)\n",
    "\n",
    "summer_athletes_regions_df.tail()"
   ]
  },
  {
   "cell_type": "markdown",
   "metadata": {},
   "source": [
    "## Task 5: Finding and Replacing The Null Values In Our Dataset\n",
    "\n",
    "**Goal:** Data cleaning and exploratory analysis.\n",
    "\n",
    "### Cleaning Tasks:\n",
    "\n",
    "- Visualize the distribution of missing values using pie charts or bar plots.\n",
    "\n",
    "- Calculate and list the percentage of null values for each column. Replace missing values with the mean of the respective column when appropriate.\n",
    "\n",
    "- Remove duplicate entries from the dataset to ensure accuracy.\n",
    "\n",
    "### Exploratory Questions:\n",
    "\n",
    "1. Which country has sent the most athletes to the Summer Olympics?\n",
    "\n",
    "2. How has the number of athletes, countries, and events changed over time?\n",
    "\n",
    "3. Which nations have won the most Olympic medals?\n",
    "\n",
    "4. How has participation by male and female athletes evolved over time?\n",
    "\n",
    "5. What is the correlation between the height and weight of Olympic participants?\n",
    "\n",
    "6. In which sports has India won Olympic medals?\n",
    "\n",
    "7. Which sports have contributed the most medals overall?"
   ]
  },
  {
   "cell_type": "code",
   "execution_count": 15,
   "metadata": {},
   "outputs": [],
   "source": [
    "# Remove duplicate entries from the dataset to ensure accuracy.\n",
    "summer_athletes_regions_df = summer_athletes_regions_df.drop_duplicates()\n",
    "summer_athletes_regions_df.tail()"
   ]
  },
  {
   "cell_type": "code",
   "execution_count": 16,
   "metadata": {},
   "outputs": [],
   "source": [
    "# Visualize the distribution of missing values using pie charts or bar plots.\n",
    "\n",
    "    # Calculating the porcentages of null values\n",
    "missing_values = summer_athletes_regions_df.isnull().sum()\n",
    "missing_values = missing_values[missing_values>0]\n",
    "percentage = (missing_values / len(summer_athletes_regions_df)) * 100\n",
    "\n",
    "    # Plotting\n",
    "fig, ax = plt.subplots(ncols=len(missing_values), figsize=(5*len(missing_values), 6))\n",
    "\n",
    "titles = ['Age', 'Height', 'Weight']\n",
    "for i in range (len(percentage)):\n",
    "    img1 = ax[i].pie([percentage.iloc[i], 100 - percentage.iloc[i]], labels=[f'NaN ({percentage.iloc[i]:.2f}%)', f'No NaN ({100-percentage.iloc[i]:.2f}%)'])\n",
    "    ax[i].set_title(titles[i])"
   ]
  },
  {
   "cell_type": "code",
   "execution_count": 17,
   "metadata": {},
   "outputs": [],
   "source": [
    "titles = ['Age', 'Height', 'Weight']\n",
    "for i in range (len(percentage)):\n",
    "    print (percentage.iloc[i])\n",
    "    print (titles[i])"
   ]
  },
  {
   "cell_type": "code",
   "execution_count": 18,
   "metadata": {},
   "outputs": [],
   "source": [
    "# Replace missing values with the mean of the respective column when appropriate.\n",
    "\n",
    "# Our first approach was to filter by the mean considering the Sport and Sex, however some sports doesn't have enough data to consider a mean.\n",
    "# Then we only consider a mean by sex for each category:\n",
    " \n",
    "mean_ages = round(summer_athletes_regions_df.groupby('Sex')['Age'].mean())\n",
    "print(mean_ages)\n",
    "mean_heights = round(summer_athletes_regions_df.groupby('Sex')['Height'].mean(), 1)\n",
    "print(mean_heights)\n",
    "mean_weights = round(summer_athletes_regions_df.groupby('Sex')['Weight'].mean(), 1)\n",
    "print(mean_weights)\n",
    "\n",
    "# Replace the NaN cell with the corresponding average values.\n",
    "summer_athletes_regions_df['Age'] = summer_athletes_regions_df['Age'].fillna(summer_athletes_regions_df['Sex'].map(mean_ages))\n",
    "summer_athletes_regions_df['Height'] = summer_athletes_regions_df['Height'].fillna(summer_athletes_regions_df['Sex'].map(mean_heights))\n",
    "summer_athletes_regions_df['Weight'] = summer_athletes_regions_df['Weight'].fillna(summer_athletes_regions_df['Sex'].map(mean_weights))\n",
    "print(summer_athletes_regions_df.isnull().sum())"
   ]
  },
  {
   "cell_type": "code",
   "execution_count": 19,
   "metadata": {},
   "outputs": [],
   "source": [
    "# 1. Which country has sent the most athletes to the Summer Olympics?\n",
    "athlete_counts = summer_athletes_regions_df.groupby('region')['ID'].nunique()\n",
    "# print(athlete_counts)\n",
    "top_country = athlete_counts.idxmax()\n",
    "top_count   = athlete_counts.max()\n",
    "print(f\"{top_country} has sent the most athletes with {top_count} participants\")"
   ]
  },
  {
   "cell_type": "code",
   "execution_count": 20,
   "metadata": {},
   "outputs": [],
   "source": [
    "# 2. How has the number of athletes, countries, and events changed over time?\n",
    "yearly = (summer_athletes_regions_df.groupby('Year').agg({\n",
    "              'ID':     'nunique',   # unique athletes\n",
    "              'region': 'nunique',   # unique countries\n",
    "              'Event':  'nunique'    # unique events\n",
    "          })\n",
    "          .rename(columns={\n",
    "              'ID':     'n_athletes',\n",
    "              'region': 'n_countries',\n",
    "              'Event':  'n_events'\n",
    "          })\n",
    "          .reset_index()\n",
    "         )\n",
    "yearly.head()"
   ]
  },
  {
   "cell_type": "code",
   "execution_count": 21,
   "metadata": {},
   "outputs": [],
   "source": [
    "# Athletes over the time\n",
    "plt.figure()\n",
    "plt.plot(yearly['Year'], yearly['n_athletes'])\n",
    "plt.title('Number of athletes per edition')\n",
    "plt.xlabel('Year')\n",
    "plt.ylabel('Athletes')\n",
    "plt.show()"
   ]
  },
  {
   "cell_type": "code",
   "execution_count": 22,
   "metadata": {},
   "outputs": [],
   "source": [
    "# Countries over the time\n",
    "plt.figure()\n",
    "plt.plot(yearly['Year'], yearly['n_countries'])\n",
    "plt.title('Number of countries per edition')\n",
    "plt.xlabel('Year')\n",
    "plt.ylabel('Countries')\n",
    "plt.show()"
   ]
  },
  {
   "cell_type": "code",
   "execution_count": 23,
   "metadata": {},
   "outputs": [],
   "source": [
    "# Events over the time\n",
    "plt.figure()\n",
    "plt.plot(yearly['Year'], yearly['n_events'])\n",
    "plt.title('Number of events per edition')\n",
    "plt.xlabel('Year')\n",
    "plt.ylabel('Events')\n",
    "plt.show()"
   ]
  },
  {
   "cell_type": "markdown",
   "metadata": {},
   "source": [
    "Answer: The number of athletes, countries, and events have increased over the time."
   ]
  },
  {
   "cell_type": "code",
   "execution_count": 24,
   "metadata": {},
   "outputs": [],
   "source": [
    "# 3. Which nations have won the most Olympic medals?\n",
    "# There are 3 types of medals: 'Gold', 'Silver' and 'Bronze'\n",
    "gold_medals_df = (summer_athletes_regions_df.loc[summer_athletes_regions_df['Medal'] == \"Gold\"])\n",
    "gold_medal_counts = (gold_medals_df.groupby('region')['Medal'].count().sort_values(ascending=False))\n",
    "# print(gold_medal_counts)\n",
    "print(f\"{gold_medal_counts.idxmax()} has the most Golden medals with {gold_medal_counts.max()}\")\n",
    "\n",
    "silver_medals_df = (summer_athletes_regions_df.loc[summer_athletes_regions_df['Medal'] == \"Silver\"])\n",
    "silver_medals_counts = (silver_medals_df.groupby('region')['Medal'].count().sort_values(ascending=False))\n",
    "# print(silver_medals_counts)\n",
    "print(f\"{silver_medals_counts.idxmax()} has the most Silver medals with {silver_medals_counts.max()}\")\n",
    "\n",
    "bronze_medals_df = (summer_athletes_regions_df.loc[summer_athletes_regions_df['Medal'] == \"Bronze\"])\n",
    "bronze_medals_counts = (bronze_medals_df.groupby('region')['Medal'].count().sort_values(ascending=False))\n",
    "# print(bronze_medals_counts)\n",
    "print(f\"{bronze_medals_counts.idxmax()} has the most Bronze medals with {bronze_medals_counts.max()}\")"
   ]
  },
  {
   "cell_type": "code",
   "execution_count": 25,
   "metadata": {},
   "outputs": [],
   "source": [
    "# 4. How has participation by male and female athletes evolved over time?\n",
    "gender_yearly = summer_athletes_regions_df.groupby(['Year', 'Sex'])['ID'].nunique().unstack(fill_value=0)\n",
    "gender_yearly.head()"
   ]
  },
  {
   "cell_type": "code",
   "execution_count": 26,
   "metadata": {},
   "outputs": [],
   "source": [
    "plt.figure()\n",
    "plt.plot(gender_yearly.index, gender_yearly['M'], label='Male')\n",
    "plt.plot(gender_yearly.index, gender_yearly['F'], label='Female')\n",
    "plt.title('Genders over time')\n",
    "plt.xlabel('Year')\n",
    "plt.ylabel('Athletes')\n",
    "plt.legend()\n",
    "plt.show()"
   ]
  },
  {
   "cell_type": "markdown",
   "metadata": {},
   "source": [
    "Answer: The number of female participants has increased over the time."
   ]
  },
  {
   "cell_type": "code",
   "execution_count": 27,
   "metadata": {},
   "outputs": [],
   "source": [
    "# 5. What is the correlation between the height and weight of Olympic participants?\n",
    "correlation = summer_athletes_regions_df[['Height', 'Weight']].corr()\n",
    "print(correlation)"
   ]
  },
  {
   "cell_type": "markdown",
   "metadata": {},
   "source": [
    "Answer: The correlation between the height and weight of the Summer Olympic participants is 0.793861"
   ]
  },
  {
   "cell_type": "code",
   "execution_count": 28,
   "metadata": {},
   "outputs": [],
   "source": [
    "# 6. In which sports has India won Olympic medals?\n",
    "india_medals = summer_athletes_regions_df[\n",
    "    (summer_athletes_regions_df['region'] == 'India') & ((summer_athletes_regions_df['Medal'] != 'None'))\n",
    "]\n",
    "# india_medals\n",
    "india_medals_by_sport = india_medals['Sport'].unique()\n",
    "print(\"India has won medals in the following sports:\")\n",
    "for sport in india_medals_by_sport:\n",
    "    print(f\"- {sport}\")\n"
   ]
  },
  {
   "cell_type": "code",
   "execution_count": 29,
   "metadata": {},
   "outputs": [],
   "source": [
    "# 7. Which sports have contributed the most medals overall?\n",
    "medals_only = summer_athletes_regions_df[summer_athletes_regions_df['Medal'] != 'None']\n",
    "# medals_only\n",
    "\n",
    "# Medals per sport\n",
    "medals_by_sport = (medals_only.groupby('Sport')['Medal'].count().sort_values(ascending=False))\n",
    "medals_by_sport.head()"
   ]
  },
  {
   "cell_type": "markdown",
   "metadata": {},
   "source": [
    "Answer: the sports that has the most medals are: Athletics with 3969, Swimming with 3048, Rowing with 2945, Gymnastics with 2256 and Fencing with 1743\n"
   ]
  },
  {
   "cell_type": "markdown",
   "metadata": {},
   "source": [
    "##  Task 6: Exploratory Analysis and Visualisations\n",
    "\n",
    "**Goal:** Data analysis and visualization."
   ]
  },
  {
   "cell_type": "markdown",
   "metadata": {},
   "source": [
    "### 1. Create a word-cloud that graphically shows the nations that have sent the maximum number of athletes over the years."
   ]
  },
  {
   "cell_type": "code",
   "execution_count": 30,
   "metadata": {},
   "outputs": [],
   "source": [
    "from wordcloud import WordCloud\n",
    "athlete_counts = summer_athletes_regions_df.groupby('region')['ID'].nunique()\n",
    "athlete_counts_dict = athlete_counts.to_dict()\n",
    "# athlete_counts_dict\n",
    "\n",
    "wordcloud = WordCloud(width=500, height=300, background_color='white').generate_from_frequencies(athlete_counts_dict)\n",
    "plt.figure(figsize=(15, 8))\n",
    "plt.imshow(wordcloud, interpolation='bilinear')\n",
    "plt.axis('off')\n",
    "plt.show()"
   ]
  },
  {
   "cell_type": "markdown",
   "metadata": {},
   "source": [
    "### 2. Show the relation between various features and labels in the Olympics dataset and infere/discuss any trends and correlations."
   ]
  },
  {
   "cell_type": "code",
   "execution_count": 31,
   "metadata": {},
   "outputs": [],
   "source": [
    "# The features and labels in the Olympics dataset are:\n",
    "# Sex, Age, Height, Weight, Team, NOC, Games, Year, Season,\tCity, Sport, Event,\tMedal, region\n",
    "# We can make correlation with the numeric values (Age, Height and Weight)\n",
    "# but also, those values may differ by taking in count their sex.\n",
    "\n",
    "print('################################################################')\n",
    "# Correlation of the athletes by Sex taking in count Age, Height and Weight\n",
    "correlation_SHW = summer_athletes_regions_df.groupby('Sex')[['Age', 'Height', 'Weight']].corr()\n",
    "print(correlation_SHW)\n",
    "\n",
    "print('################################################################')\n",
    "# Correlation of the athletes by Medal taking in count Age, Height and Weight\n",
    "correlation_MHW = summer_athletes_regions_df.groupby('Medal')[['Age', 'Height', 'Weight']].corr()\n",
    "print(correlation_MHW)\n",
    "print('################################################################')"
   ]
  },
  {
   "cell_type": "markdown",
   "metadata": {},
   "source": [
    "Answer: \n",
    "\n",
    "Sex Correlations:\n",
    "1. Height and Weight are highly related between both sexs (F: 0.74 and M: 0.72), which is reasonable since the higher the weighter.\n",
    "2. In females, Age has a moderate correlation between Height and Weight.\n",
    "3. In males, Age is poorly correlated with Height and Weight which may result in a bigger age distribution.\n",
    "\n",
    "Medal Correlations:\n",
    "1. In all the cases, the correlation between Height and Weight is strong.\n",
    "2. Those who did not win a medal have a higher correlation between age and physical characteristics that the medalists. This may be because non-medal athletes have a greater age variability or participate in events where age is a more determining factor."
   ]
  },
  {
   "cell_type": "markdown",
   "metadata": {},
   "source": [
    "### 3. Make a plot of the overall spread of the age of athletes in the Summer Olympics and discuss your findings."
   ]
  },
  {
   "cell_type": "code",
   "execution_count": 32,
   "metadata": {},
   "outputs": [],
   "source": [
    "plt.figure(figsize=(9, 5))\n",
    "plt.boxplot(summer_athletes_regions_df['Age'], vert=False, showmeans=True, whis=10)\n",
    "plt.title('Age Distribution of Athletes in the Summer Olympics')\n",
    "\n",
    "edad_min = summer_athletes_regions_df['Age'].min()\n",
    "edad_max = summer_athletes_regions_df['Age'].max()\n",
    "edad_media = summer_athletes_regions_df['Age'].mean()\n",
    "edad_mediana = summer_athletes_regions_df['Age'].median()\n",
    "edad_std = summer_athletes_regions_df['Age'].std()\n",
    "\n",
    "stats_text = (\n",
    "    f'Estadistics:\\n'\n",
    "    f'Min: {edad_min} years\\n'\n",
    "    f'Max: {edad_max} years\\n'\n",
    "    f'Media: {edad_media:.1f} years\\n'\n",
    "    f'Mediana: {edad_mediana:.1f} years\\n'\n",
    "    f'Desv. Estándar: {edad_std:.1f} years'\n",
    ")\n",
    "\n",
    "plt.figtext(0.6, 0.62, stats_text, bbox=dict(facecolor='white'), fontsize=12)\n",
    "plt.show()"
   ]
  },
  {
   "cell_type": "markdown",
   "metadata": {},
   "source": [
    "Answer:\n",
    "\n",
    "A wide age range is evident from 10 to 97, which indicates a large inclusion of participants by age.\n",
    "\n",
    "The most common age of participants is between 20 and 30 years old. This indicates that these are the age ranges in which athletes are most competitive. In fact, the median and mean are 25 and 25.6, respectively.\n",
    "\n",
    "There are also older participants because there are competitions where age is neither an impediment nor a determining factor.\n"
   ]
  },
  {
   "cell_type": "markdown",
   "metadata": {},
   "source": [
    "### 4. Make a plot of the number of participants in the Summer Olympics over the years and discuss the overall trends."
   ]
  },
  {
   "cell_type": "code",
   "execution_count": 33,
   "metadata": {},
   "outputs": [],
   "source": [
    "# summer_athletes_regions_df.info()\n",
    "# Note: There are several athletes that participate in different Sports in the same Year. \n",
    "#       We decided not to take in count repeated participants in the same year.\n",
    "participants_by_year = summer_athletes_regions_df.groupby('Year')['ID'].nunique()\n",
    "# participants_by_year\n",
    "\n",
    "plt.figure(figsize=(10, 5))\n",
    "plt.plot(participants_by_year.index, participants_by_year.values, marker='o')\n",
    "plt.title('Number of Participants in the Summer Olympics over the Years')\n",
    "plt.xlabel('Year')\n",
    "plt.ylabel('Athletes')\n",
    "plt.grid(True)\n",
    "plt.xticks(rotation=-45)\n",
    "plt.tight_layout()\n",
    "plt.show()"
   ]
  },
  {
   "cell_type": "markdown",
   "metadata": {},
   "source": [
    "Answer: There has been sustained growth from the first Games until the 21st century. Furthermore, declines in the trend can be observed during the war years (1914, 1940, 1944, etc.). Starting in 1980, more countries joined the Olympic Games, and women's participation began to become standardized."
   ]
  },
  {
   "cell_type": "markdown",
   "metadata": {},
   "source": [
    "### 5. Describe the variation in the number of female participants over the years in the Summer Olympics."
   ]
  },
  {
   "cell_type": "code",
   "execution_count": 34,
   "metadata": {},
   "outputs": [],
   "source": [
    "plt.figure()\n",
    "plt.plot(gender_yearly.index, gender_yearly['F'].values, label='Female')\n",
    "plt.title('Number of Female Participants Over the Years')\n",
    "plt.xlabel('Year')\n",
    "plt.ylabel('Athletes')\n",
    "plt.legend()\n",
    "plt.show()"
   ]
  },
  {
   "cell_type": "markdown",
   "metadata": {},
   "source": [
    "Answer:\n",
    "\n",
    "Overall, female participation in the Summer Olympics is growing exponentially.\n",
    "\n",
    "In the begining (1900 - 1920) the participating of famales is very low,and has a slow increase between 1920 and 1960. After that, the increase is very pronounced due to the struggles for gender equality rights."
   ]
  },
  {
   "cell_type": "markdown",
   "metadata": {},
   "source": [
    "### 6. Show graphically the variation of the number of female participants in comparison to male participants over the years."
   ]
  },
  {
   "cell_type": "code",
   "execution_count": 35,
   "metadata": {},
   "outputs": [],
   "source": [
    "plt.figure()\n",
    "plt.plot(gender_yearly.index, gender_yearly['M'], label='Male')\n",
    "plt.plot(gender_yearly.index, gender_yearly['F'], label='Female')\n",
    "plt.title('Number of Participants Over the Years')\n",
    "plt.xlabel('Year')\n",
    "plt.ylabel('Athletes')\n",
    "plt.legend()\n",
    "plt.show()"
   ]
  },
  {
   "cell_type": "markdown",
   "metadata": {},
   "source": [
    "### 7. Create a scatter plot of the relationship between Height Vs Weight Vs Age of participants across sports. Any conclusions?"
   ]
  },
  {
   "cell_type": "code",
   "execution_count": null,
   "metadata": {},
   "outputs": [],
   "source": [
    "top_sports = summer_athletes_regions_df['Sport'].value_counts().head(40).index.tolist()\n",
    "sports_df = summer_athletes_regions_df[summer_athletes_regions_df['Sport'].isin(top_sports)]"
   ]
  },
  {
   "cell_type": "code",
   "execution_count": null,
   "metadata": {},
   "outputs": [],
   "source": [
    "1+1"
   ]
  },
  {
   "cell_type": "code",
   "execution_count": 62,
   "metadata": {},
   "outputs": [
    {
     "ename": "TypeError",
     "evalue": "list indices must be integers or slices, not str",
     "output_type": "error",
     "traceback": [
      "\u001b[31m---------------------------------------------------------------------------\u001b[39m",
      "\u001b[31mTypeError\u001b[39m                                 Traceback (most recent call last)",
      "\u001b[36mCell\u001b[39m\u001b[36m \u001b[39m\u001b[32mIn[62]\u001b[39m\u001b[32m, line 10\u001b[39m\n\u001b[32m      7\u001b[39m plt.figure(figsize=(\u001b[32m12\u001b[39m, \u001b[32m8\u001b[39m))\n\u001b[32m      9\u001b[39m \u001b[38;5;28;01mfor\u001b[39;00m i, sport \u001b[38;5;129;01min\u001b[39;00m \u001b[38;5;28menumerate\u001b[39m(top_sports):\n\u001b[32m---> \u001b[39m\u001b[32m10\u001b[39m     sport_data = top_sports[\u001b[43mtop_sports\u001b[49m\u001b[43m[\u001b[49m\u001b[33;43m'\u001b[39;49m\u001b[33;43mSport\u001b[39;49m\u001b[33;43m'\u001b[39;49m\u001b[43m]\u001b[49m == sport]\n\u001b[32m     11\u001b[39m     plt.scatter([i] * \u001b[38;5;28mlen\u001b[39m(sport_data), sport_data[\u001b[33m'\u001b[39m\u001b[33mHeight\u001b[39m\u001b[33m'\u001b[39m], alpha=\u001b[32m0.5\u001b[39m, s=\u001b[32m5\u001b[39m)\n\u001b[32m     13\u001b[39m \u001b[38;5;66;03m# Configuramos el gráfico\u001b[39;00m\n",
      "\u001b[31mTypeError\u001b[39m: list indices must be integers or slices, not str"
     ]
    },
    {
     "data": {
      "text/plain": [
       "<Figure size 1200x800 with 0 Axes>"
      ]
     },
     "metadata": {},
     "output_type": "display_data"
    }
   ],
   "source": [
    "# Scatter plot simple: Altura vs Deporte\n",
    "\n",
    "# Seleccionamos los deportes más representativos\n",
    "top_sports = summer_athletes_regions_df['Sport'].value_counts().head(40).index.tolist()\n",
    "sports_df = summer_athletes_regions_df[summer_athletes_regions_df['Sport'].isin(top_sports)]\n",
    "\n",
    "plt.figure(figsize=(12, 8))\n",
    "\n",
    "for i, sport in enumerate(top_sports):\n",
    "    sport_data = top_sports[top_sports['Sport'] == sport]\n",
    "    plt.scatter([i] * len(sport_data), sport_data['Height'], alpha=0.5, s=5)\n",
    "\n",
    "# Configuramos el gráfico\n",
    "plt.xlabel('Sports')\n",
    "plt.ylabel('Height (cm)')\n",
    "plt.title('Height vs Sports')\n",
    "plt.xticks(range(len(top_sports)), top_sports, rotation=90, ha='right')\n",
    "plt.grid(True, linestyle='--', alpha=0.7, axis='y')\n",
    "\n",
    "plt.tight_layout()\n",
    "plt.show()"
   ]
  },
  {
   "cell_type": "code",
   "execution_count": 49,
   "metadata": {},
   "outputs": [],
   "source": [
    "len(sport_data)"
   ]
  },
  {
   "cell_type": "code",
   "execution_count": 43,
   "metadata": {},
   "outputs": [],
   "source": [
    "sport_stats = summer_athletes_regions_df.groupby('Sport').agg({\n",
    "    'Age': 'mean',\n",
    "    'Weight': 'mean',\n",
    "    'Height': 'mean'\n",
    "}).reset_index()\n",
    "\n",
    "x = range(1000)\n",
    "width = 0.2\n",
    "\n",
    "fig, ax1 = plt.subplots(figsize=(14, 8))\n",
    "\n",
    "# Years\n",
    "scat_age = ax1.scatter([i - width for i in x], summer_athletes_regions_df['Age'], color='blue', label=\"Edad (años)\", s=10)\n",
    "ax1.set_ylabel('Years', color='blue')\n",
    "ax1.tick_params(axis='y', labelcolor='blue')\n",
    "\n",
    "# Height\n",
    "ax2 = ax1.twinx()\n",
    "scat_height = ax2.scatter(x, summer_athletes_regions_df['Height'][:1000], color='green', label=\"Height (cm)\", s=10, alpha=0.7)\n",
    "ax2.set_ylabel('Height (cm)', color='green')\n",
    "ax2.tick_params(axis='y', labelcolor='green')\n",
    "\n",
    "# Weight\n",
    "ax3 = ax1.twinx()\n",
    "ax3.spines['right'].set_position(('outward', 60))\n",
    "scat_weight = ax3.scatter([i + width for i in x], summer_athletes_regions_df['Weight'][:1000], color='red', label=\"Weight (kg)\", s=10)\n",
    "ax3.set_ylabel('Weight (kg)', color='red')\n",
    "ax3.tick_params(axis='y', labelcolor='red')\n",
    "\n",
    "# X (Sport)\n",
    "plt.xticks(x, sport_stats['Sport'])\n",
    "plt.xlabel('Sport')\n",
    "plt.title('Height Vs Weight Vs Age across sports')\n",
    "\n",
    "# Añadir leyenda combinada\n",
    "lines = [scat_age, scat_height, scat_weight]\n",
    "labels = [\"Years\", \"Height (cm)\", \"Weight (kg)\"]\n",
    "plt.legend(lines, labels, loc='upper right')\n",
    "\n",
    "plt.tight_layout()\n",
    "plt.show()"
   ]
  },
  {
   "cell_type": "markdown",
   "metadata": {},
   "source": [
    "### 8. Find and list the top 10 nations that have won the most Gold, Silver, and Bronze Medals, respectively, in the history of the Summer Olympics."
   ]
  },
  {
   "cell_type": "code",
   "execution_count": 37,
   "metadata": {},
   "outputs": [],
   "source": [
    "medals_df = summer_athletes_regions_df[summer_athletes_regions_df['Medal'] != 'None']\n",
    "medals_by_type = (medals_df.groupby(['region', 'Medal'])['ID'].count().unstack(fill_value=0))\n",
    "\n",
    "top_10_gold = medals_by_type.sort_values(by='Gold', ascending=False).head(10)\n",
    "top_10_silver = medals_by_type.sort_values(by='Silver', ascending=False).head(10)\n",
    "top_10_bronze = medals_by_type.sort_values(by='Bronze', ascending=False).head(10)\n",
    "\n",
    "print('################################################################')\n",
    "print(top_10_gold['Gold'])\n",
    "print('################################################################')\n",
    "print(top_10_silver['Silver'])\n",
    "print('################################################################')\n",
    "print(top_10_bronze['Bronze'])\n",
    "print('################################################################')"
   ]
  },
  {
   "cell_type": "markdown",
   "metadata": {},
   "source": [
    "### 9. Create a word-cloud showing sports in which India has won medals over the years."
   ]
  },
  {
   "cell_type": "code",
   "execution_count": 38,
   "metadata": {},
   "outputs": [],
   "source": [
    "india_medals_df = summer_athletes_regions_df[\n",
    "    (summer_athletes_regions_df['region'] == 'India') &\n",
    "    (summer_athletes_regions_df['Medal'] != 'None')\n",
    "]\n",
    "\n",
    "sport_counts = india_medals_df['Sport'].value_counts()\n",
    "sport_freq = sport_counts.to_dict()\n",
    "# sport_freq\n",
    "\n",
    "wordcloud = WordCloud(width=600, height=400, background_color='white').generate_from_frequencies(sport_freq)\n",
    "plt.figure(figsize=(10, 5))\n",
    "plt.imshow(wordcloud, interpolation='bilinear')\n",
    "plt.axis('off')\n",
    "# plt.title('Sports in which India has Won Medals Over the Years')\n",
    "plt.show()\n"
   ]
  },
  {
   "cell_type": "markdown",
   "metadata": {},
   "source": [
    "### 10. Look up and list the top 3 female athletes by the number of awarded medals across all sports."
   ]
  },
  {
   "cell_type": "code",
   "execution_count": null,
   "metadata": {},
   "outputs": [],
   "source": [
    "female_medalists = summer_athletes_regions_df[\n",
    "    (summer_athletes_regions_df['Sex'] == 'F') &\n",
    "    (summer_athletes_regions_df['Medal'] != 'None')\n",
    "]\n",
    "\n",
    "medals_by_female_athlete = (\n",
    "    female_medalists\n",
    "    .groupby('Name')['Medal']\n",
    "    .count()\n",
    "    .sort_values(ascending=False)\n",
    ")\n",
    "\n",
    "# the top 3 female athletes by the number of awarded medals across all sports are:\n",
    "medals_by_female_athlete.head(3)"
   ]
  },
  {
   "cell_type": "markdown",
   "metadata": {},
   "source": [
    "  - Does Wealth (GDP) have any effect on a country's performance in the Olympics?\n",
    "\n"
   ]
  },
  {
   "cell_type": "markdown",
   "metadata": {},
   "source": [
    "### DGP Dataset"
   ]
  },
  {
   "cell_type": "code",
   "execution_count": null,
   "metadata": {},
   "outputs": [],
   "source": [
    "import folium\n",
    "import json\n",
    "import requests\n",
    "\n",
    "country_participation = summer_athletes_regions_df.groupby('region')['ID'].nunique().reset_index()\n",
    "country_participation.columns = ['country', 'athletes']\n",
    "\n",
    "# Download the geojson of countries\n",
    "geo_url = 'https://raw.githubusercontent.com/python-visualization/folium/master/examples/data/world-countries.json'\n",
    "geo_json = requests.get(geo_url).json()\n",
    "\n",
    "# Base map\n",
    "choropleth_map = folium.Map(location=[20, 0], zoom_start=2)\n",
    "\n",
    "folium.Choropleth(\n",
    "    geo_data=geo_json,\n",
    "    name='choropleth',\n",
    "    data=country_participation,\n",
    "    columns=['country', 'athletes'],\n",
    "    key_on='feature.properties.name',\n",
    "    fill_color='YlOrRd',\n",
    "    fill_opacity=0.7,\n",
    "    line_opacity=0.2,\n",
    "    legend_name='Número total de atletas únicos por país (Juegos Olímpicos de Verano)'\n",
    ").add_to(choropleth_map)\n",
    "\n",
    "folium.LayerControl().add_to(choropleth_map)\n",
    "\n",
    "# choropleth_map.save('olympics_participation_map.html')\n",
    "choropleth_map"
   ]
  },
  {
   "cell_type": "code",
   "execution_count": 9,
   "metadata": {},
   "outputs": [
    {
     "data": {
      "text/html": [
       "<div>\n",
       "<style scoped>\n",
       "    .dataframe tbody tr th:only-of-type {\n",
       "        vertical-align: middle;\n",
       "    }\n",
       "\n",
       "    .dataframe tbody tr th {\n",
       "        vertical-align: top;\n",
       "    }\n",
       "\n",
       "    .dataframe thead th {\n",
       "        text-align: right;\n",
       "    }\n",
       "</style>\n",
       "<table border=\"1\" class=\"dataframe\">\n",
       "  <thead>\n",
       "    <tr style=\"text-align: right;\">\n",
       "      <th></th>\n",
       "      <th>Country</th>\n",
       "      <th>Code</th>\n",
       "      <th>Year</th>\n",
       "      <th>GDP-Growth</th>\n",
       "      <th>GDP-Per-Capita</th>\n",
       "      <th>GDP</th>\n",
       "    </tr>\n",
       "  </thead>\n",
       "  <tbody>\n",
       "    <tr>\n",
       "      <th>0</th>\n",
       "      <td>Aruba</td>\n",
       "      <td>ABW</td>\n",
       "      <td>1960</td>\n",
       "      <td>NaN</td>\n",
       "      <td>NaN</td>\n",
       "      <td>NaN</td>\n",
       "    </tr>\n",
       "    <tr>\n",
       "      <th>1</th>\n",
       "      <td>Afghanistan</td>\n",
       "      <td>AFG</td>\n",
       "      <td>1960</td>\n",
       "      <td>NaN</td>\n",
       "      <td>NaN</td>\n",
       "      <td>NaN</td>\n",
       "    </tr>\n",
       "    <tr>\n",
       "      <th>2</th>\n",
       "      <td>Angola</td>\n",
       "      <td>AGO</td>\n",
       "      <td>1960</td>\n",
       "      <td>NaN</td>\n",
       "      <td>NaN</td>\n",
       "      <td>NaN</td>\n",
       "    </tr>\n",
       "    <tr>\n",
       "      <th>3</th>\n",
       "      <td>Albania</td>\n",
       "      <td>ALB</td>\n",
       "      <td>1960</td>\n",
       "      <td>NaN</td>\n",
       "      <td>NaN</td>\n",
       "      <td>NaN</td>\n",
       "    </tr>\n",
       "    <tr>\n",
       "      <th>4</th>\n",
       "      <td>Andorra</td>\n",
       "      <td>AND</td>\n",
       "      <td>1960</td>\n",
       "      <td>NaN</td>\n",
       "      <td>NaN</td>\n",
       "      <td>NaN</td>\n",
       "    </tr>\n",
       "    <tr>\n",
       "      <th>...</th>\n",
       "      <td>...</td>\n",
       "      <td>...</td>\n",
       "      <td>...</td>\n",
       "      <td>...</td>\n",
       "      <td>...</td>\n",
       "      <td>...</td>\n",
       "    </tr>\n",
       "    <tr>\n",
       "      <th>15043</th>\n",
       "      <td>Kosovo</td>\n",
       "      <td>XKX</td>\n",
       "      <td>2016</td>\n",
       "      <td>4.145372</td>\n",
       "      <td>4193.631327</td>\n",
       "      <td>7.738508e+09</td>\n",
       "    </tr>\n",
       "    <tr>\n",
       "      <th>15044</th>\n",
       "      <td>Yemen, Rep.</td>\n",
       "      <td>YEM</td>\n",
       "      <td>2016</td>\n",
       "      <td>-2.701475</td>\n",
       "      <td>667.945437</td>\n",
       "      <td>1.903557e+10</td>\n",
       "    </tr>\n",
       "    <tr>\n",
       "      <th>15045</th>\n",
       "      <td>South Africa</td>\n",
       "      <td>ZAF</td>\n",
       "      <td>2016</td>\n",
       "      <td>0.787056</td>\n",
       "      <td>7439.919412</td>\n",
       "      <td>4.298757e+11</td>\n",
       "    </tr>\n",
       "    <tr>\n",
       "      <th>15046</th>\n",
       "      <td>Zambia</td>\n",
       "      <td>ZMB</td>\n",
       "      <td>2016</td>\n",
       "      <td>3.794901</td>\n",
       "      <td>1672.345428</td>\n",
       "      <td>2.901824e+10</td>\n",
       "    </tr>\n",
       "    <tr>\n",
       "      <th>15047</th>\n",
       "      <td>Zimbabwe</td>\n",
       "      <td>ZWE</td>\n",
       "      <td>2016</td>\n",
       "      <td>6.159190</td>\n",
       "      <td>1322.344063</td>\n",
       "      <td>1.909335e+10</td>\n",
       "    </tr>\n",
       "  </tbody>\n",
       "</table>\n",
       "<p>15048 rows × 6 columns</p>\n",
       "</div>"
      ],
      "text/plain": [
       "            Country Code  Year  GDP-Growth  GDP-Per-Capita           GDP\n",
       "0             Aruba  ABW  1960         NaN             NaN           NaN\n",
       "1       Afghanistan  AFG  1960         NaN             NaN           NaN\n",
       "2            Angola  AGO  1960         NaN             NaN           NaN\n",
       "3           Albania  ALB  1960         NaN             NaN           NaN\n",
       "4           Andorra  AND  1960         NaN             NaN           NaN\n",
       "...             ...  ...   ...         ...             ...           ...\n",
       "15043        Kosovo  XKX  2016    4.145372     4193.631327  7.738508e+09\n",
       "15044   Yemen, Rep.  YEM  2016   -2.701475      667.945437  1.903557e+10\n",
       "15045  South Africa  ZAF  2016    0.787056     7439.919412  4.298757e+11\n",
       "15046        Zambia  ZMB  2016    3.794901     1672.345428  2.901824e+10\n",
       "15047      Zimbabwe  ZWE  2016    6.159190     1322.344063  1.909335e+10\n",
       "\n",
       "[15048 rows x 6 columns]"
      ]
     },
     "execution_count": 9,
     "metadata": {},
     "output_type": "execute_result"
    }
   ],
   "source": [
    "url = \"https://raw.githubusercontent.com/bhushanrane29/Summer-Olympics-EDA/master/gdp_data.csv\"\n",
    "gdp_df = pd.read_csv(url)\n",
    "gdp_df"
   ]
  },
  {
   "cell_type": "markdown",
   "metadata": {},
   "source": [
    "1. What is the relation between a countries climate and their olympic medal tally?"
   ]
  },
  {
   "cell_type": "code",
   "execution_count": null,
   "metadata": {},
   "outputs": [],
   "source": []
  },
  {
   "cell_type": "markdown",
   "metadata": {},
   "source": [
    "2. Does home advantage give countries an edge in their medals tally? (Linearcurve)"
   ]
  },
  {
   "cell_type": "code",
   "execution_count": null,
   "metadata": {},
   "outputs": [],
   "source": []
  },
  {
   "cell_type": "markdown",
   "metadata": {},
   "source": [
    "3. Does an athele's height have any role to play in winning an olympic medal? (Heatmap)"
   ]
  },
  {
   "cell_type": "code",
   "execution_count": null,
   "metadata": {},
   "outputs": [],
   "source": []
  },
  {
   "cell_type": "markdown",
   "metadata": {},
   "source": [
    "4. You can add the Paralympics dataset to this link data too"
   ]
  },
  {
   "cell_type": "code",
   "execution_count": null,
   "metadata": {},
   "outputs": [],
   "source": []
  },
  {
   "cell_type": "markdown",
   "metadata": {},
   "source": [
    "5. Replace the pie charts with sunburst charts at places where it is possible"
   ]
  },
  {
   "cell_type": "code",
   "execution_count": null,
   "metadata": {},
   "outputs": [],
   "source": []
  }
 ],
 "metadata": {
  "kernelspec": {
   "display_name": "Python 3",
   "language": "python",
   "name": "python3"
  },
  "language_info": {
   "codemirror_mode": {
    "name": "ipython",
    "version": 3
   },
   "file_extension": ".py",
   "mimetype": "text/x-python",
   "name": "python",
   "nbconvert_exporter": "python",
   "pygments_lexer": "ipython3",
   "version": "3.12.1"
  }
 },
 "nbformat": 4,
 "nbformat_minor": 2
}
